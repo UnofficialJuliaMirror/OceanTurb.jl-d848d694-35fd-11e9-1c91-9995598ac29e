{
 "cells": [
  {
   "cell_type": "markdown",
   "metadata": {},
   "source": [
    "# The K-profile parameterization in `OceanTurb.jl`\n",
    "\n",
    "Here we demonstrate how to set up a `Model` in `OceanTurb.jl`, set initial conditions and boundary conditions, and iterate the model forward."
   ]
  },
  {
   "cell_type": "code",
   "execution_count": null,
   "metadata": {},
   "outputs": [
    {
     "name": "stdout",
     "output_type": "stream",
     "text": [
      "\u001b[32m\u001b[1m  Updating\u001b[22m\u001b[39m registry at `~/.julia/registries/General`\n",
      "\u001b[32m\u001b[1m  Updating\u001b[22m\u001b[39m git-repo `https://github.com/JuliaRegistries/General.git`\n",
      "\u001b[?25l\u001b[2K\u001b[?25h"
     ]
    }
   ],
   "source": [
    "using Pkg; Pkg.activate(\"..\"); Pkg.instantiate()\n",
    "\n",
    "using OceanTurb, PyPlot, PyPlotPlus"
   ]
  },
  {
   "cell_type": "code",
   "execution_count": null,
   "metadata": {},
   "outputs": [],
   "source": [
    "# First, we define the model.\n",
    "parameters = KPP.Parameters(K₀=1)\n",
    "model = KPP.Model(N=200, L=100.0, parameters=parameters);"
   ]
  },
  {
   "cell_type": "markdown",
   "metadata": {},
   "source": [
    "# No-flux boundary conditions (the default)\n",
    "\n",
    "When a `KPP.Model` is initialized, it assumes\n",
    "a default no-flux boundary condition for `U`, `V`, `T`, and `S`."
   ]
  },
  {
   "cell_type": "code",
   "execution_count": null,
   "metadata": {},
   "outputs": [],
   "source": [
    "# Next we use a simple initial condition and iterate forward\n",
    "L = model.grid.L\n",
    "z0, dz = -L/2, L/20\n",
    "T0(z) = exp(-(z-z0)^2 / 2dz^2)\n",
    "\n",
    "# Set T to the function T0(z)\n",
    "model.solution.T = T0\n",
    "\n",
    "# Initialize plotting\n",
    "ax, fig = subplots()\n",
    "xlabel(L\"T\")\n",
    "ylabel(L\"z\")\n",
    "title(\"No flux boundary conditions\")\n",
    "cornerspines()\n",
    "\n",
    "plot(model.solution.T.data, nodes(model.solution.T), \"--\", label=\"initial condition\")\n",
    "\n",
    "# Run\n",
    "dt = 0.01\n",
    "nt = 1000\n",
    "ni = 10\n",
    "\n",
    "for i = 1:ni\n",
    "    iterate!(model, dt, nt)\n",
    "    plot(model.solution.T.data, nodes(model.solution.T))\n",
    "end\n",
    "\n",
    "legend();"
   ]
  },
  {
   "cell_type": "markdown",
   "metadata": {},
   "source": [
    "# A constant flux boundary condition\n",
    "\n",
    "Next, we demonstrate how to set a constant flux boundary condition in `OceanTurb.KPP`."
   ]
  },
  {
   "cell_type": "code",
   "execution_count": null,
   "metadata": {},
   "outputs": [],
   "source": [
    "# Re-initialize the solution\n",
    "model.solution.T = 0 # in OceanTurb.jl, this sets all grid values of T to 0.\n",
    "\n",
    "# Set top flux boundary condition\n",
    "model.bcs.T.top = FluxBoundaryConition(1.0)\n",
    "model.bcs.T.bottom = FluxBoundaryConition(-0.01)\n",
    "\n",
    "# Initialize plotting\n",
    "ax, fig = subplots()\n",
    "xlabel(L\"T\")\n",
    "ylabel(L\"z\")\n",
    "title(\"Constant flux top boundary condition\")\n",
    "cornerspines()\n",
    "\n",
    "plot(model.solution.T.data, zdata(model.solution.T), \"--\", label=\"initial condition\")\n",
    "\n",
    "# Run\n",
    "dt = 0.01\n",
    "nt = 1000\n",
    "ni = 10\n",
    "\n",
    "for i = 1:ni\n",
    "    iterate!(model, dt, nt)\n",
    "    plot(model.solution.T.data, zdata(model.solution.T))\n",
    "end\n",
    "\n",
    "legend();"
   ]
  },
  {
   "cell_type": "code",
   "execution_count": null,
   "metadata": {},
   "outputs": [],
   "source": []
  }
 ],
 "metadata": {
  "kernelspec": {
   "display_name": "Julia 1.0.1",
   "language": "julia",
   "name": "julia-1.0"
  },
  "language_info": {
   "file_extension": ".jl",
   "mimetype": "application/julia",
   "name": "julia",
   "version": "1.0.1"
  }
 },
 "nbformat": 4,
 "nbformat_minor": 2
}
