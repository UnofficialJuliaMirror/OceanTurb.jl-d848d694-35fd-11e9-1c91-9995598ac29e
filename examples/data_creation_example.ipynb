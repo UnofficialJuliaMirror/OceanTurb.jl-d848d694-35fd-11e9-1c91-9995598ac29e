{
 "cells": [
  {
   "cell_type": "markdown",
   "metadata": {},
   "source": [
    "# Data creation and saving in `OceanTurb.jl`\n",
    "\n",
    "Here we demonstrate how to save model output in `OceanTurb.jl`.\n",
    "\n",
    "To start, we set up our environment and define a few convenient plotting functions."
   ]
  },
  {
   "cell_type": "code",
   "execution_count": 1,
   "metadata": {},
   "outputs": [
    {
     "name": "stdout",
     "output_type": "stream",
     "text": [
      "\u001b[32m\u001b[1m  Updating\u001b[22m\u001b[39m registry at `~/.julia/registries/General`\n",
      "\u001b[32m\u001b[1m  Updating\u001b[22m\u001b[39m git-repo `https://github.com/JuliaRegistries/General.git`\n",
      "\u001b[?25l\u001b[2K\u001b[?25h"
     ]
    },
    {
     "data": {
      "text/plain": [
       "cornerspines (generic function with 1 method)"
      ]
     },
     "execution_count": 1,
     "metadata": {},
     "output_type": "execute_result"
    }
   ],
   "source": [
    "using Pkg\n",
    "\n",
    "try\n",
    "    using JLD2\n",
    "catch\n",
    "    Pkg.activate(\"\")\n",
    "    warn(\"Adding JLD2 to your base Julia environment!\")\n",
    "    Pkg.add(\"JLD2\")\n",
    "end\n",
    "\n",
    "# Activate OceanTurb environment\n",
    "Pkg.activate(\"..\")\n",
    "Pkg.instantiate()\n",
    "using OceanTurb\n",
    "\n",
    "# A few nice things for printing and plotting\n",
    "using Printf, PyPlot, PyCall\n",
    "\n",
    "import PyPlot: plot\n",
    "\n",
    "font_manager = pyimport(\"matplotlib.font_manager\")\n",
    "\n",
    "plot(f::Field, args...; kwargs...) = plot(data(f), nodes(f), args...; kwargs...)\n",
    "plot(op::Function, f::Field, args...; kwargs...) = plot(op.(data(f)), nodes(f), args...; kwargs...)\n",
    "\n",
    "\"Remove `spine` from `ax`.\"\n",
    "function removespine(side, ax=gca())\n",
    "    ax.spines[side].set_visible(false)\n",
    "    keywords = Dict(Symbol(side)=>false, Symbol(:label, side)=>false)\n",
    "    ax.tick_params(keywords)\n",
    "    nothing\n",
    "end\n",
    "\n",
    "removespines(sides...; ax=gca()) = for side in sides; removespine(side, ax); end\n",
    "cornerspines() = removespines(\"top\", \"right\")"
   ]
  },
  {
   "cell_type": "markdown",
   "metadata": {},
   "source": [
    "For this example we use the same \"simple flux\" scenario used in `kpp_examples.ipynb`."
   ]
  },
  {
   "cell_type": "code",
   "execution_count": 2,
   "metadata": {},
   "outputs": [
    {
     "data": {
      "text/plain": [
       "simple_flux_model (generic function with 1 method)"
      ]
     },
     "execution_count": 2,
     "metadata": {},
     "output_type": "execute_result"
    }
   ],
   "source": [
    "function simple_flux_model(; N=10, L=100, Tz=0.01, Fb=1e-8, Fu=0, parameters=KPP.Parameters())\n",
    "    \n",
    "    model = KPP.Model(N=N, L=L, parameters=parameters, stepper=:BackwardEuler)\n",
    "\n",
    "    # Initial condition\n",
    "    T₀(z) = 20 + Tz*z\n",
    "    \n",
    "    # Set T to the function T0(z)\n",
    "    model.solution.T = T₀\n",
    "\n",
    "    # Fluxes\n",
    "    Fθ = Fb / (model.constants.α * model.constants.g)\n",
    "    model.bcs.U.top = FluxBoundaryCondition(Fu)\n",
    "    model.bcs.T.top = FluxBoundaryCondition(Fθ)\n",
    "    model.bcs.T.bottom = GradientBoundaryCondition(Tz)\n",
    "    \n",
    "    return model\n",
    "end"
   ]
  },
  {
   "cell_type": "markdown",
   "metadata": {},
   "source": [
    "# Saving data\n",
    "\n",
    "To facilitate data, we define a few functions that save useful things both on model initialization (`init_data`), and while the model is running (`save_data`).\n",
    "\n",
    "We use `JLD2.jl`."
   ]
  },
  {
   "cell_type": "code",
   "execution_count": 3,
   "metadata": {},
   "outputs": [
    {
     "data": {
      "text/plain": [
       "init_data (generic function with 1 method)"
      ]
     },
     "execution_count": 3,
     "metadata": {},
     "output_type": "execute_result"
    }
   ],
   "source": [
    "function save_data(path, model)\n",
    "    iteration = iter(model)\n",
    "    jldopen(path, \"a+\") do file\n",
    "        file[\"timeseries/t/$iteration\"] = time(model)\n",
    "        file[\"timeseries/U/$iteration\"] = collect(data(model.solution.U))\n",
    "        file[\"timeseries/T/$iteration\"] = collect(data(model.solution.T))\n",
    "    end\n",
    "end\n",
    "\n",
    "function init_data(path, model)\n",
    "    Fu = OceanTurb.getbc(model, model.bcs.U.top)\n",
    "    Fb = OceanTurb.getbc(model, model.bcs.T.top) * model.constants.α * model.constants.g\n",
    "    Tz = OceanTurb.getbc(model, model.bcs.T.bottom)\n",
    "    \n",
    "    jldopen(path, \"a+\") do file\n",
    "        for gridfield in (:N, :L)\n",
    "            file[\"grid/$gridfield\"] = getproperty(model.grid, gridfield)\n",
    "        end\n",
    "\n",
    "        file[\"bcs/Fu\"] = Fu\n",
    "        file[\"bcs/Fb\"] = Fb\n",
    "        file[\"bcs/Tz\"] = Tz\n",
    "    end\n",
    "\n",
    "    return nothing\n",
    "end"
   ]
  },
  {
   "cell_type": "markdown",
   "metadata": {},
   "source": [
    "Next, we generate a model with some benign parameters and run, saving data every `dout` seconds."
   ]
  },
  {
   "cell_type": "code",
   "execution_count": 18,
   "metadata": {},
   "outputs": [
    {
     "name": "stdout",
     "output_type": "stream",
     "text": [
      "\n",
      "running from iter 0  0.052998 seconds (479.87 k allocations: 8.432 MiB)\n",
      "    ...saving at iter 60  0.050388 seconds (251 allocations: 20.266 KiB)\n",
      "\n",
      "running from iter 60  0.071449 seconds (482.87 k allocations: 8.478 MiB, 20.46% gc time)\n",
      "    ...saving at iter 120  0.069120 seconds (280 allocations: 22.656 KiB)\n",
      "\n",
      "running from iter 120  0.054957 seconds (484.86 k allocations: 8.508 MiB)\n",
      "    ...saving at iter 180  0.052268 seconds (283 allocations: 22.516 KiB)\n",
      "\n",
      "running from iter 180  0.056246 seconds (486.45 k allocations: 8.532 MiB)\n",
      "    ...saving at iter 240  0.051677 seconds (289 allocations: 22.891 KiB)\n",
      "\n",
      "running from iter 240  0.060665 seconds (487.81 k allocations: 8.553 MiB, 13.12% gc time)\n",
      "    ...saving at iter 300  0.053341 seconds (295 allocations: 23.266 KiB)\n",
      "\n",
      "running from iter 300  0.055492 seconds (489.02 k allocations: 8.571 MiB)\n",
      "    ...saving at iter 360  0.053503 seconds (307 allocations: 24.109 KiB)\n",
      "\n",
      "running from iter 360  0.060375 seconds (490.10 k allocations: 8.588 MiB, 7.76% gc time)\n",
      "    ...saving at iter 420  0.054106 seconds (313 allocations: 24.484 KiB)\n",
      "\n",
      "running from iter 420  0.058470 seconds (491.09 k allocations: 8.603 MiB)\n",
      "    ...saving at iter 480  0.050501 seconds (319 allocations: 24.859 KiB)\n",
      "\n",
      "running from iter 480  0.056143 seconds (492.07 k allocations: 8.618 MiB)\n",
      "    ...saving at iter 540  0.058221 seconds (328 allocations: 25.281 KiB)\n",
      "\n",
      "running from iter 540  0.058756 seconds (492.94 k allocations: 8.631 MiB, 8.80% gc time)\n",
      "    ...saving at iter 600  0.050324 seconds (340 allocations: 26.500 KiB)\n",
      "\n",
      "running from iter 600  0.053838 seconds (493.74 k allocations: 8.643 MiB)\n",
      "    ...saving at iter 660  0.095525 seconds (346 allocations: 26.875 KiB)\n",
      "\n",
      "running from iter 660  0.055856 seconds (494.54 k allocations: 8.656 MiB, 8.21% gc time)\n",
      "    ...saving at iter 720  0.051973 seconds (355 allocations: 28.234 KiB)\n",
      "\n",
      "running from iter 720  0.054777 seconds (495.29 k allocations: 8.667 MiB)\n",
      "    ...saving at iter 780  0.052863 seconds (361 allocations: 28.609 KiB)\n",
      "\n",
      "running from iter 780  0.058523 seconds (495.97 k allocations: 8.678 MiB)\n",
      "    ...saving at iter 840  0.048891 seconds (370 allocations: 29.500 KiB)\n",
      "\n",
      "running from iter 840  0.060142 seconds (496.68 k allocations: 8.688 MiB, 7.54% gc time)\n",
      "    ...saving at iter 900  0.055736 seconds (373 allocations: 29.359 KiB)\n",
      "\n",
      "running from iter 900  0.057461 seconds (497.37 k allocations: 8.699 MiB)\n",
      "    ...saving at iter 960  0.049885 seconds (379 allocations: 29.734 KiB)\n",
      "\n",
      "running from iter 960  0.064960 seconds (497.99 k allocations: 8.708 MiB, 10.87% gc time)\n",
      "    ...saving at iter 1020  0.042323 seconds (385 allocations: 30.109 KiB)\n",
      "\n",
      "running from iter 1020  0.054620 seconds (498.59 k allocations: 8.717 MiB)\n",
      "    ...saving at iter 1080  0.126340 seconds (397 allocations: 32.078 KiB)\n",
      "\n",
      "running from iter 1080  0.057558 seconds (499.18 k allocations: 8.727 MiB)\n",
      "    ...saving at iter 1140  0.043421 seconds (403 allocations: 32.453 KiB)\n",
      "\n",
      "running from iter 1140  0.059945 seconds (499.77 k allocations: 8.735 MiB, 7.63% gc time)\n",
      "    ...saving at iter 1200  0.047297 seconds (409 allocations: 32.828 KiB)\n",
      "\n",
      "running from iter 1200  0.057974 seconds (500.32 k allocations: 8.744 MiB)\n",
      "    ...saving at iter 1260  0.041219 seconds (415 allocations: 33.203 KiB)\n",
      "\n",
      "running from iter 1260  0.063253 seconds (500.88 k allocations: 8.752 MiB, 8.01% gc time)\n",
      "    ...saving at iter 1320  0.100902 seconds (421 allocations: 33.578 KiB)\n",
      "\n",
      "running from iter 1320  0.057451 seconds (501.41 k allocations: 8.761 MiB)\n",
      "    ...saving at iter 1380  0.048186 seconds (427 allocations: 33.953 KiB)\n",
      "\n",
      "running from iter 1380  0.057547 seconds (501.94 k allocations: 8.769 MiB)\n",
      "    ...saving at iter 1440  0.049947 seconds (433 allocations: 34.328 KiB)\n"
     ]
    }
   ],
   "source": [
    "    dt = 10 # time step in seconds\n",
    "  dout = 10*minute # interval between output\n",
    "tfinal = 4*hour # final time\n",
    "\n",
    "ntot = Int(tfinal/dt)\n",
    "\n",
    "nint = Int(dout/dt)\n",
    "nout = Int(ntot/nint)\n",
    "\n",
    "filepath = joinpath(\".\", \"test_free_convection.jld2\")\n",
    "\n",
    "model = simple_flux_model(\n",
    "     N = 100, \n",
    "     L = 100, \n",
    "    Tz = 4.08e-4, \n",
    "    Fb = 5e-8, \n",
    "    Fu = 0\n",
    ")\n",
    "\n",
    "isfile(filepath) && rm(filepath)\n",
    "init_data(filepath, model)\n",
    "\n",
    "for i = 1:nout\n",
    "    @printf \"\\nrunning from iter %d\" iter(model)\n",
    "    @time iterate!(model, dt, nint)\n",
    "        \n",
    "    @printf \"    ...saving at iter %d\" iter(model)\n",
    "    @time save_data(filepath, model)\n",
    "end"
   ]
  },
  {
   "cell_type": "markdown",
   "metadata": {},
   "source": [
    "# Opening and analyzing data\n",
    "\n",
    "Running the model created a jld file, which we can open and look at:"
   ]
  },
  {
   "cell_type": "code",
   "execution_count": 19,
   "metadata": {},
   "outputs": [
    {
     "name": "stdout",
     "output_type": "stream",
     "text": [
      "file = JLDFile /archive1/glwagner/Projects/OceanTurb.jl/examples/test_free_convection.jld2 (read-only)\n",
      " ├─📂 grid\n",
      " │  ├─🔢 N\n",
      " │  └─🔢 L\n",
      " ├─📂 bcs\n",
      " │  ├─🔢 Fu\n",
      " │  ├─🔢 Fb\n",
      " │  └─🔢 Tz\n",
      " └─📂 timeseries\n",
      "    ├─📂 t\n",
      "    │  ├─🔢 60\n",
      "    │  ├─🔢 120\n",
      "    │  ├─🔢 180\n",
      "    │  ├─🔢 240\n",
      "    │  ├─🔢 300\n",
      "    │  ├─🔢 360\n",
      "    │  ├─🔢 420\n",
      "    │  ├─🔢 480\n",
      "    │  ├─🔢 540\n",
      "    │  ├─🔢 600\n",
      "    │  ├─🔢 660\n",
      "    │  ├─🔢 720\n",
      "    │  ├─🔢 780\n",
      "    │  ├─🔢 840\n",
      "    │  ├─🔢 900\n",
      "    │  ├─🔢 960\n",
      "    │  ├─🔢 1020\n",
      "    │  ├─🔢 1080\n",
      "    │  ├─🔢 1140\n",
      "    │  ├─🔢 1200\n",
      "    │  ├─🔢 1260\n",
      "    │  ├─🔢 1320\n",
      "    │  ├─🔢 1380\n",
      "    │  └─🔢 1440\n",
      "    ├─📂 U\n",
      "    │  ├─🔢 60\n",
      "    │  ├─🔢 120\n",
      "    │  ├─🔢 180\n",
      "    │  ├─🔢 240\n",
      "    │  ├─🔢 300\n",
      "    │  ├─🔢 360\n",
      "    │  ├─🔢 420\n",
      "    │  ├─🔢 480\n",
      "    │  ├─🔢 540\n",
      "    │  ├─🔢 600\n",
      "    │  ├─🔢 660\n",
      "    │  ├─🔢 720\n",
      "    │  ├─🔢 780\n",
      "    │  ├─🔢 840\n",
      "    │  ├─🔢 900\n",
      "    │  ├─🔢 960\n",
      "    │  ├─🔢 1020\n",
      "    │  ├─🔢 1080\n",
      "    │  ├─🔢 1140\n",
      "    │  ├─🔢 1200\n",
      "    │  ├─🔢 1260\n",
      "    │  ├─🔢 1320\n",
      "    │  ├─🔢 1380\n",
      "    │  └─🔢 1440\n",
      "    └─📂 T\n",
      "       ├─🔢 60\n",
      "       ├─🔢 120\n",
      "       ├─🔢 180\n",
      "       ├─🔢 240\n",
      "       ├─🔢 300\n",
      "       ├─🔢 360\n",
      "       ├─🔢 420\n",
      "       ├─🔢 480\n",
      "       ├─🔢 540\n",
      "       ├─🔢 600\n",
      "       ├─🔢 660\n",
      "       ├─🔢 720\n",
      "       ├─🔢 780\n",
      "       ├─🔢 840\n",
      "       ├─🔢 900\n",
      "       ├─🔢 960\n",
      "       ├─🔢 1020\n",
      "       ├─🔢 1080\n",
      "       ├─🔢 1140\n",
      "       ├─🔢 1200\n",
      "       ├─🔢 1260\n",
      "       ├─🔢 1320\n",
      "       ├─🔢 1380\n",
      "       └─🔢 1440\n",
      "iters = parse.(Int, keys(file[\"timeseries/t\"])) = [60, 120, 180, 240, 300, 360, 420, 480, 540, 600, 660, 720, 780, 840, 900, 960, 1020, 1080, 1140, 1200, 1260, 1320, 1380, 1440]\n"
     ]
    }
   ],
   "source": [
    "file = jldopen(filepath, \"r\")\n",
    "\n",
    "@show file\n",
    "\n",
    "N = file[\"grid/N\"]\n",
    "L = file[\"grid/L\"]\n",
    "@show iters = parse.(Int, keys(file[\"timeseries/t\"]))\n",
    "\n",
    "close(file)"
   ]
  },
  {
   "cell_type": "markdown",
   "metadata": {},
   "source": [
    "# Plotting data\n",
    "\n",
    "Now we can plot the data (and otherwise analyze it if we wish)."
   ]
  },
  {
   "cell_type": "code",
   "execution_count": 21,
   "metadata": {},
   "outputs": [
    {
     "data": {
      "image/png": "[encoded data removed]",
      "text/plain": [
       "Figure(PyObject <matplotlib.figure.Figure object at 0x7f35685d5c88>)"
      ]
     },
     "metadata": {},
     "output_type": "display_data"
    },
    {
     "data": {
      "text/plain": [
       "PyObject <matplotlib.legend.Legend object at 0x7f359206be80>"
      ]
     },
     "execution_count": 21,
     "metadata": {},
     "output_type": "execute_result"
    }
   ],
   "source": [
    "grid = UniformGrid(N, L)\n",
    "\n",
    "function get_t_and_T(path, i)\n",
    "    file = jldopen(path, \"r\")\n",
    "    t = file[\"timeseries/t/$i\"]\n",
    "    T = file[\"timeseries/T/$i\"]\n",
    "    close(file)\n",
    "    t, T\n",
    "end\n",
    "\n",
    "fig, axs = subplots()\n",
    "cornerspines()\n",
    "xlabel(L\"T\")\n",
    "ylabel(L\"z\")\n",
    "\n",
    "for (ii, iter) in enumerate(iters)\n",
    "    t, T = get_t_and_T(filepath, iter)\n",
    "    plotlabel = ii % 4 == 0 ? @sprintf(\"\\$ t = %.2f \\$ hours\", t/hour) : \"\"\n",
    "    plot(T, grid.zc, label=plotlabel)\n",
    "end\n",
    "\n",
    "legend()"
   ]
  }
 ],
 "metadata": {
  "kernelspec": {
   "display_name": "Julia 1.0.1",
   "language": "julia",
   "name": "julia-1.0"
  },
  "language_info": {
   "file_extension": ".jl",
   "mimetype": "application/julia",
   "name": "julia",
   "version": "1.1.1"
  }
 },
 "nbformat": 4,
 "nbformat_minor": 2
}
