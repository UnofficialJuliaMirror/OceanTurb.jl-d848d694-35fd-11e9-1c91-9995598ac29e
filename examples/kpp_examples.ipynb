{
 "cells": [
  {
   "cell_type": "markdown",
   "metadata": {},
   "source": [
    "# The K-profile parameterization in `OceanTurb.jl`\n",
    "\n",
    "Here we demonstrate how to set up a `Model` in `OceanTurb.jl`, set initial conditions and boundary conditions, iterate the model forward, and plot the results."
   ]
  },
  {
   "cell_type": "code",
   "execution_count": 1,
   "metadata": {},
   "outputs": [
    {
     "name": "stdout",
     "output_type": "stream",
     "text": [
      "\u001b[32m\u001b[1m  Updating\u001b[22m\u001b[39m registry at `~/.julia/registries/General`\n",
      "\u001b[32m\u001b[1m  Updating\u001b[22m\u001b[39m git-repo `https://github.com/JuliaRegistries/General.git`\n",
      "\u001b[?25l\u001b[2K\u001b[?25h"
     ]
    },
    {
     "ename": "ArgumentError",
     "evalue": "ArgumentError: Package PyCall not found in current path:\n- Run `import Pkg; Pkg.add(\"PyCall\")` to install the PyCall package.\n",
     "output_type": "error",
     "traceback": [
      "ArgumentError: Package PyCall not found in current path:\n- Run `import Pkg; Pkg.add(\"PyCall\")` to install the PyCall package.\n",
      "",
      "Stacktrace:",
      " [1] require(::Module, ::Symbol) at ./loading.jl:823",
      " [2] top-level scope at In[1]:2"
     ]
    }
   ],
   "source": [
    "using Pkg; Pkg.activate(\"..\"); Pkg.instantiate()\n",
    "using OceanTurb, OceanTurb.Plotting, Printf, PyPlot, PyCall\n",
    "font_manager = pyimport(\"matplotlib.font_manager\")"
   ]
  },
  {
   "cell_type": "markdown",
   "metadata": {},
   "source": [
    "# Dimensions, constants, and notation\n",
    "\n",
    "Constants in `OceanTurb` have the default values"
   ]
  },
  {
   "cell_type": "code",
   "execution_count": 2,
   "metadata": {},
   "outputs": [
    {
     "name": "stdout",
     "output_type": "stream",
     "text": [
      "Constants in OceanTurb:\n",
      "g = c.g = 9.81\n",
      "cP = c.cP = 3992.0\n",
      "ρ₀ = c.ρ₀ = 1035.0\n",
      "α = c.α = 0.00025\n",
      "β = c.β = 8.0e-5\n",
      "f = c.f = 0.0\n",
      "\n",
      "These two combinations crop up from time to time:\n",
      "α * g = 0.0024525000000000003\n",
      "(α * g) / (ρ₀ * cP) = 5.935784612703669e-10\n"
     ]
    },
    {
     "data": {
      "text/plain": [
       "5.935784612703669e-10"
      ]
     },
     "execution_count": 2,
     "metadata": {},
     "output_type": "execute_result"
    }
   ],
   "source": [
    "c = OceanTurb.Constants()\n",
    "\n",
    "println(\"Constants in OceanTurb:\")\n",
    "[ @eval @show $p = c.$(p) for p in propertynames(c) ]\n",
    "\n",
    "println(\"\\nThese two combinations crop up from time to time:\")\n",
    "@show α*g α*g/(ρ₀*cP)"
   ]
  },
  {
   "cell_type": "markdown",
   "metadata": {},
   "source": [
    "# Four \"simple flux\" initial value problems\n",
    "\n",
    "We consider four initial value problems with identical initial conditions and differing atmospheric fluxes.\n",
    "The problems are initialized with zero velocity fields and a linear temperature stratification, so that\n",
    "\n",
    "$$ U = V = 0 \\, , \\qquad S = S_0 \\, , \\quad \\text{and} \\quad T = T_0 + \\gamma z \\, . $$\n",
    "\n",
    "The initial temperature gradient $\\gamma$ corresponds to an initial buoyancy frequency $N_0$\n",
    "\n",
    "$$ N_0^2 = \\alpha g \\gamma \\approx 2.45 \\times 10^{-3} \\gamma $$\n",
    "\n",
    "with $\\alpha = 2.5 \\times 10^{-4} \\, \\mathrm{C^{-1}}$ \n",
    "and $g = 9.81 \\, \\mathrm{m \\, s^{-2}}$.\n",
    "\n",
    "The four atmospheric flux conditions we consider are \n",
    "\n",
    "1. Constant, unstable buoyancy flux $F_b$ with no wind\n",
    "2. Constant wind stress and velocity flux $F_u$ with no buoyancy forcing\n",
    "3. Constant velocity flux with unstable buoyancy forcing\n",
    "4. Constant velocity flux with stable buoyancy forcing\n",
    "\n",
    "For simplicity we add the flux only to $U$.\n",
    "\n",
    "To implement these cases we write a function, `simple_flux_model` that sets up the `OceanTurb.KPP` model and also allows us to set arbitrary `parameters`."
   ]
  },
  {
   "cell_type": "code",
   "execution_count": 3,
   "metadata": {},
   "outputs": [
    {
     "data": {
      "text/plain": [
       "simple_flux_model (generic function with 1 method)"
      ]
     },
     "execution_count": 3,
     "metadata": {},
     "output_type": "execute_result"
    }
   ],
   "source": [
    "function simple_flux_model(; N=10, L=100, Tz=0.01, Fb=1e-8, Fu=0, parameters=KPP.Parameters())\n",
    "    \n",
    "    model = KPP.Model(N=N, L=L, parameters=parameters, stepper=:BackwardEuler)\n",
    "\n",
    "    # Initial condition\n",
    "    T₀(z) = 20 + Tz*z\n",
    "    \n",
    "    # Set T to the function T0(z)\n",
    "    model.solution.T = T₀\n",
    "\n",
    "    # Fluxes\n",
    "    Fθ = Fb / (model.constants.α * model.constants.g)\n",
    "    model.bcs.U.top = FluxBoundaryCondition(Fu)\n",
    "    model.bcs.T.top = FluxBoundaryCondition(Fθ)\n",
    "    model.bcs.T.bottom = GradientBoundaryCondition(Tz)\n",
    "    \n",
    "    return model\n",
    "end"
   ]
  },
  {
   "cell_type": "markdown",
   "metadata": {},
   "source": [
    "# Domain size and run duration for \"simple flux\" cases\n",
    "\n",
    "Next, we determine the size of the domain and the duration of the runs we consider.\n",
    "To do that, we introduce a bit of boundary layer physics to motivate our choices.\n",
    "\n",
    "## Introductory physics\n",
    "\n",
    "Momentum fluxes due to wind stress $\\boldsymbol{\\tau}$ and buoyancy fluxes $F_b$\n",
    "are associated with the velocity scales \n",
    "\n",
    "$$ \\omega_\\tau = F_u^{1/2} \\, , \\qquad \\text{and} \\qquad \\omega_b = | h F_b |^{1/3} \\, , $$\n",
    "\n",
    "where $h$ is the depth of the well-mixed layer that develops at the surface due to turbulent mixing.\n",
    "These velocity scales correspond to the kinetic and potential energy fluxes\n",
    "associated with momentum and buoyancy flux, respectively.\n",
    "In particular, the energy fluxes are the cube of the velocity scales.\n",
    "\n",
    "The nature of turbulent boundary layer mixing thus depends on whether the 'energy flux ratio'\n",
    "\n",
    "$$ r \\equiv \\left ( \\frac{\\omega_b}{\\omega_\\tau} \\right )^3 = \\frac{h |F_b|}{F_u^{3/2}} \\, , $$\n",
    "\n",
    "is greater or less than 1.\n",
    "\n",
    "## The `simple_flux` cases\n",
    "\n",
    "The four simple flux cases induce constant atmospheric forcing into an initially linearly stratified fluid.\n",
    "If we arbitrary pick the atmospheric flux magnitudes\n",
    "\n",
    "$$ F_b = \\pm 5 \\times 10^{-8} \\, \\mathrm{m^2 \\, s^{-3}} \\, , \\qquad \\text{and} \\qquad F_u = 10^{-4} \\, \\mathrm{m^2 \\, s^{-2}} \\, ,$$ \n",
    "\n",
    "we find that $r=1$ when \n",
    "\n",
    "$$ h = \\frac{F_u^{3/2}}{|F_b|} = 20 \\, \\mathrm{meters} $$\n",
    "\n",
    "We therefore choose a domain of depth $100$ meters to observe a range of turbulence regimes under mixed atmospheric flux conditions.\n",
    "\n",
    "## Rate of boundary layer deepening\n",
    "\n",
    "On dimensional grounds, we expect that in the case of constant, unstable, buoyancy flux\n",
    "the mixing layer depth increases accoring to\n",
    "\n",
    "$$ h \\sim \\sqrt{ \\frac{F_b}{N_0^2} t } \\, , $$\n",
    "\n",
    "where $N_0^2$ is the initial buoyancy frequency.\n",
    "In the case of constant wind stress, on the other hand, the same analysis suggests\n",
    "\n",
    "$$ h \\sim \\sqrt{ \\frac{F_u}{N_0} t} \\, , $$\n",
    "\n",
    "For simplicity, we pick a weak initial temperature gradient $\\gamma = 4.08 \\times 10^{-4}$, \n",
    "so that $N_0^2 = 10^{-6} \\, \\mathrm{s^{-2}}$ and $N_0 = 10^{-3} \\, \\mathrm{s^{-1}}$.\n",
    "\n",
    "Thus with an unstable buoyancy flux of $F_b = 5 \\times 10^{-8} \\, \\mathrm{m^2 \\, s^{-3}}$ and \n",
    "velocity flux due to wind stress of $F_u = 10^{-4} \\, \\mathrm{m^2 \\, s^{-2}}$ we find that the boundary layer \n",
    "deepens according to\n",
    "\n",
    "$$ \\text{(unstable buoyancy flux)} \\quad h \\sim 0.22 \\, t^{1/2} $$\n",
    "\n",
    "and \n",
    "\n",
    "$$ \\text{(wind stress)} \\quad h \\sim 0.32 \\, t^{1/2} $$\n",
    "\n",
    "A depth of $h=20$ meters is reached after $t \\approx 1.1$ hours for wind stress and\n",
    "$t \\approx 2.2$ hours for unstable buoyancy flux, and deepening due to wind stress is twice as fast\n",
    "as unstable buoyancy forcing.\n",
    "\n",
    "Below, we show the arthimetic that produces the above calculations."
   ]
  },
  {
   "cell_type": "code",
   "execution_count": 4,
   "metadata": {},
   "outputs": [
    {
     "name": "stdout",
     "output_type": "stream",
     "text": [
      "A buoyancy frequency of N₀ = sqrt(α * g * γ) = 0.0010003099519648897\n",
      "implies a buoyancy period (in minutes) of\n",
      "\n",
      "T = ((2π) / N₀) / minute = 104.68730708313034\n",
      "\n",
      "The scaling factors in boundary layer deepening for buoyancy flux and wind stress are\n",
      "\n",
      "sqrt(Fb / N₀ ^ 2) = 0.22353751185895174\n",
      "sqrt(Fu / N₀) = 0.31617876969770803\n",
      "\n",
      "The time (in hours) to reach a depth (in meters) of \n",
      "\n",
      "h₀ = Fu ^ (3 / 2) / Fb = 20.000000000000004\n",
      "\n",
      "in each case is\n",
      "\n",
      "((h₀ ^ 2 * N₀ ^ 2) / Fb) / hour = 2.2236000000000007\n",
      "((h₀ ^ 2 * N₀) / Fu) / hour = 1.1114555021832113\n"
     ]
    }
   ],
   "source": [
    "γ = 4.08e-4 # temperature gradient\n",
    "Fb = 5e-8 # buoyancy forcing\n",
    "Fu = 1e-4 # wind stress\n",
    "\n",
    "@printf \"A buoyancy frequency of \"\n",
    "@show N₀ = sqrt(α*g*γ) \n",
    "\n",
    "@printf \"implies a buoyancy period (in minutes) of\\n\\n\"\n",
    "@show T = 2π/N₀ / minute\n",
    "\n",
    "@printf \"\\nThe scaling factors in boundary layer deepening for buoyancy flux and wind stress are\\n\\n\"\n",
    "@show sqrt(Fb/N₀^2) sqrt(Fu/N₀) \n",
    "\n",
    "@printf \"\\nThe time (in hours) to reach a depth (in meters) of \\n\\n\"\n",
    "\n",
    "@show h₀ = Fu^(3/2) / Fb\n",
    "\n",
    "@printf \"\\nin each case is\\n\\n\"\n",
    "@show (h₀^2 * N₀^2/Fb) / hour h₀^2 * N₀/Fu / hour\n",
    "\n",
    "0;"
   ]
  },
  {
   "cell_type": "markdown",
   "metadata": {},
   "source": [
    "We next define helper functions to run the simple flux model for a few simple parameters:\n",
    "\n",
    "* Resolution `Δ`\n",
    "* Time step size `dt`\n",
    "* Case (1, 2, 3, 4)"
   ]
  },
  {
   "cell_type": "code",
   "execution_count": 5,
   "metadata": {},
   "outputs": [
    {
     "data": {
      "text/plain": [
       "run_simple_flux_model (generic function with 2 methods)"
      ]
     },
     "execution_count": 5,
     "metadata": {},
     "output_type": "execute_result"
    }
   ],
   "source": [
    "Fb = 5e-8\n",
    "Fu = -1e-4\n",
    "\n",
    "fluxes = Dict(\n",
    "    1 => ( Fb,  0),\n",
    "    2 => (  0, Fu),\n",
    "    3 => ( Fb, Fu),\n",
    "    4 => (-Fb, Fu)\n",
    ")\n",
    "            \n",
    "function run_simple_flux_model(case, Δ, dt, parameters=KPP.Parameters())\n",
    "    Tz = 4.08e-4 # temperature gradient\n",
    "                \n",
    "    L = 100 # meters\n",
    "    N = Int(L/Δ)\n",
    "                \n",
    "    tfinal = 4 * hour\n",
    "    toutput = 10 * minute # output every 10 minutes = > 24 outputs\n",
    "                \n",
    "    ntotal = Int(tfinal/dt) # will fail unless dt is a nice number\n",
    "    ninterm = Int(toutput/dt)\n",
    "    noutput = Int(ntotal / ninterm)\n",
    "    \n",
    "    Fb, Fu = fluxes[case]\n",
    "        \n",
    "    model = simple_flux_model(N=N, L=L, Tz=Tz, Fb=Fb, Fu=Fu, parameters=parameters)\n",
    "                \n",
    "    h = Float64[]\n",
    "    t = Float64[]\n",
    "    U = []\n",
    "    T = []\n",
    "                \n",
    "    for i = 1:noutput      \n",
    "        iterate!(model, dt, ninterm)\n",
    "        push!(h, model.state.h)\n",
    "        push!(t, time(model))\n",
    "        push!(U, deepcopy(model.solution.U))\n",
    "        push!(T, deepcopy(model.solution.T))\n",
    "    end\n",
    "                \n",
    "    return U, T, h, t, model\n",
    "end"
   ]
  },
  {
   "cell_type": "markdown",
   "metadata": {},
   "source": [
    "Next, we run a few cases and plot the results."
   ]
  },
  {
   "cell_type": "code",
   "execution_count": 6,
   "metadata": {},
   "outputs": [
    {
     "ename": "UndefVarError",
     "evalue": "UndefVarError: font_manager not defined",
     "output_type": "error",
     "traceback": [
      "UndefVarError: font_manager not defined",
      "",
      "Stacktrace:",
      " [1] top-level scope at In[6]:15"
     ]
    }
   ],
   "source": [
    "runs = []\n",
    "for case = 1:4\n",
    "    push!(runs, run_simple_flux_model(case, 1, minute))\n",
    "end\n",
    "\n",
    "function at_depth(T, h)\n",
    "    ih = searchsortedfirst(T.grid.zc, -h)\n",
    "    return T[ih]\n",
    "end\n",
    "\n",
    "fig, axs = subplots(ncols=4, nrows=2, figsize=(16, 8))\n",
    "\n",
    "cols, rows = size(axs)\n",
    "defaultcolors = plt.rcParams[\"axes.prop_cycle\"].by_key()[\"color\"]\n",
    "\n",
    "font = font_manager.FontProperties()\n",
    "font.set_style(\"normal\")\n",
    "font.set_weight(\"light\")\n",
    "font.set_size(\"large\")\n",
    "\n",
    "for j = 1:rows\n",
    "    for i = 1:cols\n",
    "        ax = axs[i, j]\n",
    "        sca(ax)\n",
    "        \n",
    "        removespines(\"right\")\n",
    "        \n",
    "        if j > 1\n",
    "            removespines(\"left\")\n",
    "            ax.tick_params(left=false, labelleft=false)\n",
    "        else\n",
    "            ylabel(L\"z\")\n",
    "        end\n",
    "        \n",
    "        if i == 1\n",
    "            removespines(\"bottom\")\n",
    "            ax.tick_params(bottom=false, labelbottom=false, top=true, labeltop=true)\n",
    "            xlabel(L\"T\", labelpad=12.0)\n",
    "            ax.xaxis.set_label_position(\"top\")\n",
    "        else\n",
    "            removespines(\"top\")\n",
    "            xlabel(L\"U\", labelpad=12.0)\n",
    "        end  \n",
    "            \n",
    "        U, T, h, t, model = runs[j]\n",
    "\n",
    "        for jout in [1, 6, 12, 18, 24]\n",
    "            Ui = U[jout]\n",
    "            Ti = T[jout]\n",
    "            \n",
    "            if i == 1                 \n",
    "                plotlabel = j == 1 ? @sprintf(\"\\$ t \\$ = %.2f hours\", t[jout]/hour) : \"\"\n",
    "                plot(Ti, label=plotlabel)\n",
    "                plot(at_depth(Ti, h[jout]) .+ 0.005*[-1, 1], -h[jout]*[1, 1], \"-\")\n",
    "                xlim(19.95, 20.02)\n",
    "                \n",
    "                label = @sprintf(\"Case %d \\n \\$ F_b = %.0e\\$ \\n \\$ F_u = %.0e \\$\", j, fluxes[j][1], fluxes[j][2])\n",
    "                text(19.99, -90, label, verticalalignment=\"center\", fontproperties=font)\n",
    "            else                     \n",
    "                plot(Ui)\n",
    "                plot(at_depth(Ui, h[jout]) .+ 0.005*[-1, 1], -h[jout]*[1, 1], \"-\")\n",
    "                xlim(-0.05, 0.1)\n",
    "            end\n",
    "        end\n",
    "                    \n",
    "        j == 1 && i == 1 && legend(fontsize=\"medium\", handlelength=0.7, loc=\"best\", bbox_to_anchor=(0.6, 0.7))\n",
    "    end\n",
    "\n",
    "end"
   ]
  }
 ],
 "metadata": {
  "kernelspec": {
   "display_name": "Julia 1.1.0",
   "language": "julia",
   "name": "julia-1.1"
  },
  "language_info": {
   "file_extension": ".jl",
   "mimetype": "application/julia",
   "name": "julia",
   "version": "1.1.0"
  }
 },
 "nbformat": 4,
 "nbformat_minor": 2
}
