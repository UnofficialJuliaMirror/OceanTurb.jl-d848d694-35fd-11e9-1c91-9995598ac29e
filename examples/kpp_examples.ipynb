{
 "cells": [
  {
   "cell_type": "markdown",
   "metadata": {},
   "source": [
    "# The K-profile parameterization in `OceanTurb.jl`\n",
    "\n",
    "Here we demonstrate how to set up a `Model` in `OceanTurb.jl`, set initial conditions and boundary conditions, and iterate the model forward."
   ]
  },
  {
   "cell_type": "code",
   "execution_count": null,
   "metadata": {},
   "outputs": [
    {
     "name": "stdout",
     "output_type": "stream",
     "text": [
      "\u001b[32m\u001b[1m  Updating\u001b[22m\u001b[39m registry at `~/.julia/registries/General`\n",
      "\u001b[32m\u001b[1m  Updating\u001b[22m\u001b[39m git-repo `https://github.com/JuliaRegistries/General.git`\n",
      "\u001b[?25l\u001b[2K\u001b[?25h"
     ]
    }
   ],
   "source": [
    "using Pkg; Pkg.activate(\"..\"); Pkg.instantiate()\n",
    "\n",
    "using OceanTurb, PyPlot, PyPlotPlus, Printf\n",
    "\n",
    "import PyPlot: plot\n",
    "\n",
    "plot(f::Field, args...; kwargs...) = plot(data(f), nodes(f), args...; kwargs...)\n",
    "plot(op::Function, f::Field, args...; kwargs...) = plot(op.(data(f)), nodes(f), args...; kwargs...)"
   ]
  },
  {
   "cell_type": "markdown",
   "metadata": {},
   "source": [
    "# Pure convection\n",
    "\n",
    "Next, we set up a 'pure convection' problem in `OceanTurb.KPP`.\n",
    "This problem is characterized by\n",
    "\n",
    "* a constant flux boundary condition for temperature at the top\n",
    "* a stable, linear temperature initial condition\n",
    "* zero initial conditions for other variables"
   ]
  },
  {
   "cell_type": "code",
   "execution_count": null,
   "metadata": {},
   "outputs": [],
   "source": [
    "# First, we define a model 100 m deep with 1m spacing.\n",
    "parameters = KPP.Parameters()\n",
    "model = KPP.Model(N=100, L=100.0, parameters=parameters)\n",
    "\n",
    "# Initial condition\n",
    "γ = 0.01\n",
    "T₀(z) = 20 + γ*z\n",
    "N₀ = sqrt(model.constants.g*model.constants.α*γ)\n",
    "\n",
    "# Set T to the function T0(z)\n",
    "model.solution.T = T₀\n",
    "\n",
    "heat_flux = 75\n",
    "temperature_flux = heat_flux / (model.constants.ρ₀ * model.constants.cP)\n",
    "buoyancy_flux = temperature_flux * model.constants.g * model.constants.α\n",
    "\n",
    "model.bcs.T.top = FluxBoundaryCondition(temperature_flux)\n",
    "model.bcs.T.bottom = GradientBoundaryCondition(γ)\n",
    "\n",
    "# b_t = F_x => F = [m^2 / s^3]; t ~ (F / L^2)^(1/3). F / N^3 = [m^2]\n",
    "@printf(\"\"\"\n",
    "         buoyancy time-scale: %.2f hours\n",
    "    10 meter flux time-scale: %.2f hours\n",
    "\"\"\", 1 / N₀ / 3600, (10^2 / buoyancy_flux)^(1/3) / 3600)"
   ]
  },
  {
   "cell_type": "code",
   "execution_count": null,
   "metadata": {},
   "outputs": [],
   "source": [
    "# Time stepping\n",
    "dt = 1 # seconds\n",
    "nt = ceil(Int, 3600 / dt) # plot every hour\n",
    "ni = 10\n",
    "\n",
    "# Keep track of boundary layer depth versus time\n",
    "h = [0.0]\n",
    "t = [0.0]\n",
    "\n",
    "# Re-initialize plotting and iterating\n",
    "fig, axs = subplots(ncols=2, sharey=true)\n",
    "\n",
    "model.solution.T = T₀\n",
    "U, V, T, S = model.solution\n",
    "Tz = ∂z(T)\n",
    "reset!(model.clock)\n",
    "\n",
    "sca(get(axs, 0))\n",
    "ylim(-20, 0)\n",
    "xlim(19.8, 20)\n",
    "cornerspines()\n",
    "xlabel(L\"T\")\n",
    "ylabel(L\"z\")\n",
    "\n",
    "plot(T, \"--\", label=\"initial condition\")\n",
    "\n",
    "sca(get(axs, 1))\n",
    "bottomspine()\n",
    "get(axs, 1).tick_params(left=false, labelleft=false)\n",
    "xlabel(L\"\\partial_z T\")\n",
    "\n",
    "plot(Tz, \"--\", label=\"initial condition\")\n",
    "\n",
    "# Iterate\n",
    "for i = 1:ni\n",
    "    iterate!(model, dt, nt)\n",
    "    \n",
    "    push!(h, model.state.h)\n",
    "    push!(t, time(model))\n",
    "    \n",
    "    @printf(\"t: %.2f minutes, mixing layer depth: %.2f\\n\", time(model)/60, model.state.h)\n",
    "  \n",
    "    ∂z!(Tz, T)\n",
    "    \n",
    "    sca(get(axs, 0))\n",
    "    plot(T, \"-\")\n",
    "    plot(top(T), -model.state.h, \"k.\")\n",
    "    \n",
    "    sca(get(axs, 1))\n",
    "    plot(Tz, \"-\")\n",
    "end"
   ]
  },
  {
   "cell_type": "markdown",
   "metadata": {},
   "source": [
    "# Boundary layer depth versus time\n",
    "\n",
    "[Van Roekel et al (2018)](https://agupubs.onlinelibrary.wiley.com/doi/full/10.1029/2018MS001336)\n",
    "claims in their equation F11 that in pure convection the mixing layer should deepen according to\n",
    "\n",
    "$$ h(t) = \\sqrt{ \\frac{2.8 F_b t}{N^2} } $$\n",
    "\n",
    "where $F_b$ is the surface buoyancy flux and $N^2 = B_z(t=0)$ is the initial buoyancy gradient."
   ]
  },
  {
   "cell_type": "code",
   "execution_count": null,
   "metadata": {},
   "outputs": [],
   "source": [
    "fig, axs= subplots()\n",
    "xlabel(\"\\$t\\$ (hours)\")\n",
    "ylabel(\"Mixing layer depth, \\$h\\$ (m)\")\n",
    "cornerspines()\n",
    "\n",
    "h_vanroekel = sqrt.(2.8*buoyancy_flux/N₀^2 * t)\n",
    "\n",
    "plot(t/3600, h, \".\", label=\"numerical result\")\n",
    "plot(t/3600, h_vanroekel, \"k:\", label=L\"\\sqrt{2.8 F_b t / N_0^2}\")\n",
    "\n",
    "legend()"
   ]
  },
  {
   "cell_type": "code",
   "execution_count": null,
   "metadata": {},
   "outputs": [],
   "source": []
  },
  {
   "cell_type": "code",
   "execution_count": null,
   "metadata": {},
   "outputs": [],
   "source": []
  },
  {
   "cell_type": "code",
   "execution_count": null,
   "metadata": {},
   "outputs": [],
   "source": []
  }
 ],
 "metadata": {
  "kernelspec": {
   "display_name": "Julia 1.0.1",
   "language": "julia",
   "name": "julia-1.0"
  },
  "language_info": {
   "file_extension": ".jl",
   "mimetype": "application/julia",
   "name": "julia",
   "version": "1.0.1"
  }
 },
 "nbformat": 4,
 "nbformat_minor": 2
}
