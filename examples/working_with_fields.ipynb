{
 "cells": [
  {
   "cell_type": "markdown",
   "metadata": {},
   "source": [
    "# Working with fields in `OceanTurb.jl`\n",
    "\n",
    "Here we demonstrate some of the abstractions that help users work with fields in `OceanTurb.jl`."
   ]
  },
  {
   "cell_type": "code",
   "execution_count": null,
   "metadata": {},
   "outputs": [],
   "source": [
    "using Pkg; Pkg.activate(\"..\")\n",
    "using OceanTurb, OceanTurb.Plotting, Printf, PyPlot"
   ]
  },
  {
   "cell_type": "code",
   "execution_count": null,
   "metadata": {},
   "outputs": [],
   "source": [
    "# Generate a grid with 100 points and height H=10. By default the\n",
    "# base of the grid is at z=-H and the top of the grid is at z=0.\n",
    "grid = UniformGrid(100, 10)\n",
    "\n",
    "# Define a function that will generate our field's data.\n",
    "c0(z) = exp(1.2z)\n",
    "\n",
    "# Create a field of zeros on the grid.\n",
    "c = CellField(grid)\n",
    "\n",
    "# Set c to the function c0.\n",
    "set!(c, c0)\n",
    "\n",
    "# Calculate the derivative of c and set it to cz.\n",
    "cz = ∂z(c)\n",
    "\n",
    "# Plot the results\n",
    "plot(c, label=L\"c = e^{1.2z}\")\n",
    "plot(cz, label=L\"\\partial_z c = 1.2 e^{1.2z}\")\n",
    "legend()\n",
    "\n",
    "title(\"A field and it's derivative\")\n",
    "xlabel(\"\\$ c \\$ and \\$ \\\\partial_z c \\$\")\n",
    "ylabel(L\"z\")"
   ]
  },
  {
   "cell_type": "markdown",
   "metadata": {},
   "source": [
    "# Interpolation\n",
    "\n",
    "Next we demonstrate how to interpolate from one grid to another, respecting the integral budget of a quantity."
   ]
  },
  {
   "cell_type": "code",
   "execution_count": null,
   "metadata": {},
   "outputs": [],
   "source": [
    "grid1 = UniformGrid(30, 10)\n",
    "grid2 = UniformGrid(10, 10)\n",
    "grid3 = UniformGrid(3, 10)\n",
    "\n",
    "c1 = CellField(grid1)\n",
    "c2 = CellField(grid2)\n",
    "c3 = CellField(grid3)\n",
    "\n",
    "set!(c1, c)\n",
    "set!(c2, c)\n",
    "set!(c3, c)\n",
    "\n",
    "@show integral(c)\n",
    "@show integral(c1)\n",
    "@show integral(c2)\n",
    "@show integral(c3)\n",
    "\n",
    "plot(c, \".\", label=\"high-res \\$ c \\$\")\n",
    "plot(c1, \"^\", label=\"medium-res \\$ c \\$\")\n",
    "plot(c2, \"x\", label=\"low-res \\$ c \\$\")\n",
    "plot(c3, \"+\", label=\"crazy low-res \\$ c \\$\")\n",
    "\n",
    "legend()\n",
    "\n",
    "title(\"\\$ e^{1.2z} \\$ at different resolutions\")\n",
    "xlabel(L\"c\")\n",
    "ylabel(L\"z\")"
   ]
  },
  {
   "cell_type": "code",
   "execution_count": null,
   "metadata": {},
   "outputs": [],
   "source": []
  }
 ],
 "metadata": {
  "kernelspec": {
   "display_name": "Julia 1.1.0",
   "language": "julia",
   "name": "julia-1.1"
  },
  "language_info": {
   "file_extension": ".jl",
   "mimetype": "application/julia",
   "name": "julia",
   "version": "1.0.1"
  }
 },
 "nbformat": 4,
 "nbformat_minor": 2
}
