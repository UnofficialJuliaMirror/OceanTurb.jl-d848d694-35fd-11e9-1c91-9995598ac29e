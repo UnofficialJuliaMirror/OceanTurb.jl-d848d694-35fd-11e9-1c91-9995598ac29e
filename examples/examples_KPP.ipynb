{
 "cells": [
  {
   "cell_type": "markdown",
   "metadata": {},
   "source": [
    "# The K-profile parameterization in `OceanTurb.jl`\n",
    "\n",
    "Here we demonstrate how to set up a `Model` in `OceanTurb.jl`, set initial conditions and boundary conditions, and iterate the model forward."
   ]
  },
  {
   "cell_type": "code",
   "execution_count": 1,
   "metadata": {},
   "outputs": [
    {
     "name": "stdout",
     "output_type": "stream",
     "text": [
      "\u001b[32m\u001b[1m  Updating\u001b[22m\u001b[39m registry at `~/.julia/registries/General`\n",
      "\u001b[32m\u001b[1m  Updating\u001b[22m\u001b[39m git-repo `https://github.com/JuliaRegistries/General.git`\n",
      "\u001b[?25l\u001b[2K\u001b[?25h"
     ]
    },
    {
     "name": "stderr",
     "output_type": "stream",
     "text": [
      "┌ Info: Recompiling stale cache file /Users/gregorywagner/.julia/compiled/v1.0/OceanTurb/9iboO.ji for OceanTurb [d848d694-35fd-11e9-1c91-9995598ac29e]\n",
      "└ @ Base loading.jl:1187\n"
     ]
    },
    {
     "data": {
      "text/plain": [
       "plot (generic function with 2 methods)"
      ]
     },
     "execution_count": 1,
     "metadata": {},
     "output_type": "execute_result"
    }
   ],
   "source": [
    "using Pkg; Pkg.activate(\"..\"); Pkg.instantiate()\n",
    "\n",
    "using OceanTurb, PyPlot, PyPlotPlus\n",
    "\n",
    "import PyPlot: plot\n",
    "\n",
    "plot(f::Field, args...; kwargs...) = plot(f.data, nodes(f), args...; kwargs...)"
   ]
  },
  {
   "cell_type": "code",
   "execution_count": 19,
   "metadata": {},
   "outputs": [
    {
     "name": "stdout",
     "output_type": "stream",
     "text": [
      "(model.state).h = 1.0\n",
      "KPP.isforced(model) = true\n"
     ]
    },
    {
     "data": {
      "text/plain": [
       "true"
      ]
     },
     "execution_count": 19,
     "metadata": {},
     "output_type": "execute_result"
    }
   ],
   "source": [
    "# First, we define the model.\n",
    "parameters = KPP.Parameters(K₀=1e-5)\n",
    "model = KPP.Model(N=150, L=150.0, parameters=parameters)\n",
    "\n",
    "# Initial condition\n",
    "γ = 0.01\n",
    "T₀(z) = 20 + γ*z\n",
    "\n",
    "# Set T to the function T0(z)\n",
    "model.solution.T = T₀\n",
    "\n",
    "temperature_flux = 3.6e-8\n",
    "model.bcs.T.top = FluxBoundaryCondition(temperature_flux)\n",
    "#model.bcs.T.bottom = FluxBoundaryCondition(temperature_flux)\n",
    "model.bcs.T.bottom = ValueBoundaryCondition(T₀(-model.grid.L))\n",
    "KPP.update_state!(model)\n",
    "\n",
    "@show model.state.h KPP.isforced(model)"
   ]
  },
  {
   "cell_type": "markdown",
   "metadata": {},
   "source": [
    "# A constant flux boundary condition\n",
    "\n",
    "Next, we demonstrate how to set a constant flux boundary condition in `OceanTurb.KPP`."
   ]
  },
  {
   "cell_type": "code",
   "execution_count": null,
   "metadata": {},
   "outputs": [
    {
     "name": "stdout",
     "output_type": "stream",
     "text": [
      "8.0\n",
      "9.200078623418428\n",
      "1.0\n",
      "2.0\n",
      "6.891096159676058\n",
      "4"
     ]
    }
   ],
   "source": [
    "model.solution.T = T₀\n",
    "\n",
    "U, V, T, S = model.solution\n",
    "\n",
    "# Initialize plotting\n",
    "fig, axs = subplots(ncols=2)\n",
    "\n",
    "sca(get(axs, 0))\n",
    "plot(T, \"--\", label=\"initial condition\")\n",
    "\n",
    "dt = 1000.0\n",
    "\n",
    "for i = 1:10\n",
    "\n",
    "    KT = FaceField(model.grid)\n",
    "\n",
    "    iterate!(model, dt, 100000)\n",
    "    println(model.state.h)\n",
    "\n",
    "    for i in interior(KT)\n",
    "        KT[i] = KPP.K_T(model, i)\n",
    "    end\n",
    "\n",
    "    sca(get(axs, 0))\n",
    "    plot(T)\n",
    "\n",
    "    sca(get(axs, 1))\n",
    "    plot(KT, \"-\")\n",
    "end"
   ]
  },
  {
   "cell_type": "code",
   "execution_count": null,
   "metadata": {},
   "outputs": [],
   "source": []
  }
 ],
 "metadata": {
  "kernelspec": {
   "display_name": "Julia 1.0.1",
   "language": "julia",
   "name": "julia-1.0"
  },
  "language_info": {
   "file_extension": ".jl",
   "mimetype": "application/julia",
   "name": "julia",
   "version": "1.0.1"
  }
 },
 "nbformat": 4,
 "nbformat_minor": 2
}
