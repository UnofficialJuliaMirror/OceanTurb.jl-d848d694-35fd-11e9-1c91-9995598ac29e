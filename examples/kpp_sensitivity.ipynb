{
 "cells": [
  {
   "cell_type": "markdown",
   "metadata": {},
   "source": [
    "# The K-profile parameterization in `OceanTurb.jl`\n",
    "\n",
    "Here we demonstrate how to set up a `Model` in `OceanTurb.jl`, set initial conditions and boundary conditions, and iterate the model forward."
   ]
  },
  {
   "cell_type": "code",
   "execution_count": 1,
   "metadata": {},
   "outputs": [
    {
     "name": "stdout",
     "output_type": "stream",
     "text": [
      "\u001b[32m\u001b[1m  Updating\u001b[22m\u001b[39m registry at `~/.julia/registries/General`\n",
      "\u001b[32m\u001b[1m  Updating\u001b[22m\u001b[39m git-repo `https://github.com/JuliaRegistries/General.git`\n",
      "\u001b[?25l\u001b[2K\u001b[?25h"
     ]
    }
   ],
   "source": [
    "using Pkg; Pkg.activate(\"..\"); Pkg.instantiate()\n",
    "using OceanTurb, OceanTurb.Plotting, PyPlot, Printf"
   ]
  },
  {
   "cell_type": "markdown",
   "metadata": {},
   "source": [
    "# Free convection\n",
    "\n",
    "Next, we write a function that sets up a 'free convection' problem.\n",
    "\n",
    "Free convection is characterized\n",
    "\n",
    "* a constant flux boundary condition for temperature at the top (`buoyancy_flux`)\n",
    "* a stable, linear temperature initial condition (`γ`)\n",
    "* zero initial conditions for other variables\n",
    "\n",
    "In addition, we allow the user to set the resolution, domain size, and model parameters.\n",
    "We use Backward Euler timestepping."
   ]
  },
  {
   "cell_type": "code",
   "execution_count": 2,
   "metadata": {},
   "outputs": [
    {
     "data": {
      "text/plain": [
       "free_convection_model (generic function with 1 method)"
      ]
     },
     "execution_count": 2,
     "metadata": {},
     "output_type": "execute_result"
    }
   ],
   "source": [
    "function free_convection_model(; N=200, L=20, γ=0.01, buoyancy_flux=1e-8, parameters=KPP.Parameters())\n",
    "    \n",
    "    model = KPP.Model(N=N, L=L, parameters=parameters, stepper=:BackwardEuler)\n",
    "\n",
    "    # Initial condition\n",
    "    γ = 0.01\n",
    "    T₀(z) = 20 + γ*z\n",
    "    \n",
    "    # Set T to the function T0(z)\n",
    "    model.solution.T = T₀\n",
    "\n",
    "    temperature_flux = buoyancy_flux / (model.constants.α * model.constants.g)\n",
    "    model.bcs.T.top = FluxBoundaryCondition(temperature_flux)\n",
    "    model.bcs.T.bottom = GradientBoundaryCondition(γ)\n",
    "    \n",
    "    return model\n",
    "end"
   ]
  },
  {
   "cell_type": "markdown",
   "metadata": {},
   "source": [
    "# The 'Van Roekel' example\n",
    "\n",
    "[Van Roekel et al (2018)](https://agupubs.onlinelibrary.wiley.com/doi/full/10.1029/2018MS001336)\n",
    "compares the KPP of Large et al. 1994 to a large eddy simulation of free convection with a heat flux of 75 $\\mathrm{W \\, m^{-2}}$.\n",
    "\n",
    "They report in their equation F11 that in pure convection the mixing layer should deepen according to\n",
    "\n",
    "$$ h(t) = \\sqrt{ \\frac{2.8 F_b t}{N^2} } $$\n",
    "\n",
    "where $F_b$ is the surface buoyancy flux and $N^2 = B_z(t=0)$ is the initial buoyancy gradient."
   ]
  },
  {
   "cell_type": "code",
   "execution_count": 3,
   "metadata": {},
   "outputs": [
    {
     "ename": "UndefVarError",
     "evalue": "UndefVarError: removespines not defined",
     "output_type": "error",
     "traceback": [
      "UndefVarError: removespines not defined",
      "",
      "Stacktrace:",
      " [1] top-level scope at In[3]:30"
     ]
    }
   ],
   "source": [
    "# First, let's use the default model\n",
    "c = OceanTurb.Constants()\n",
    "γ = 0.01\n",
    "heat_flux = 75\n",
    "v18_buoyancy_flux = c.α * c.g * heat_flux / (c.ρ₀ * c.cP)\n",
    "\n",
    "model = free_convection_model(γ=γ, buoyancy_flux=v18_buoyancy_flux)\n",
    "\n",
    "# Time stepping\n",
    "dt = 60 # seconds\n",
    "nt = ceil(Int, 3600 / dt) # plot every hour\n",
    "ni = 10\n",
    "\n",
    "# Keep track of boundary layer depth versus time\n",
    "h = [0.0]\n",
    "t = [0.0]\n",
    "\n",
    "# Re-initialize plotting and iterating\n",
    "fig, axs = subplots(ncols=2, sharey=true)\n",
    "\n",
    "U, V, T, S = model.solution\n",
    "Tz = ∂z(T)\n",
    "reset!(model.clock)\n",
    "\n",
    "sca(axs[1])\n",
    "ylim(-20, 0)\n",
    "xlim(19.8, 20)\n",
    "xlabel(L\"T\")\n",
    "ylabel(L\"z\")\n",
    "removespines(\"top\", \"right\")\n",
    "\n",
    "plot(T, \"--\", label=\"initial condition\")\n",
    "\n",
    "sca(axs[2])\n",
    "xlim(-0.05, 0.05)\n",
    "removespines(\"left\", \"top\", \"right\")\n",
    "axs[2].tick_params(left=false, labelleft=false)\n",
    "xlabel(L\"\\partial_z T\")\n",
    "\n",
    "plot(Tz, \"--\", label=\"initial condition\")\n",
    "\n",
    "# Iterate\n",
    "for i = 1:ni\n",
    "    iterate!(model, dt, nt)\n",
    "    \n",
    "    push!(h, model.state.h)\n",
    "    push!(t, time(model))\n",
    "    \n",
    "    @printf(\"t: %.2f minutes, mixing layer depth: %.2f\\n\", time(model)/60, model.state.h)\n",
    "  \n",
    "    ∂z!(Tz, T)\n",
    "    \n",
    "    sca(axs[1])\n",
    "    plot(T, \"-\")\n",
    "    plot(top(T), -model.state.h, \"k.\")\n",
    "    \n",
    "    sca(axs[2])\n",
    "    plot(Tz, \"-\")\n",
    "end\n",
    "\n",
    "fig, axs= subplots()\n",
    "\n",
    "removespines(\"top\", \"right\")\n",
    "xlabel(\"\\$t\\$ (hours)\")\n",
    "ylabel(\"Mixing layer depth, \\$h\\$ (m)\")\n",
    "\n",
    "@show v18_buoyancy_flux\n",
    "@show v18_N₀ = sqrt(c.g * c.α * γ) v18_N₀^2\n",
    "@show 2.8 * v18_buoyancy_flux/v18_N₀^2\n",
    "\n",
    "h_v18(t) = sqrt(2.8 * v18_buoyancy_flux/v18_N₀^2 * t)\n",
    "\n",
    "plot(t/3600, h, \".\", label=\"numerical result\")\n",
    "plot(t/3600, h_v18.(t), \"k:\", label=L\"\\sqrt{2.8 F_b t / N_0^2}\")\n",
    "\n",
    "legend()"
   ]
  },
  {
   "cell_type": "markdown",
   "metadata": {},
   "source": [
    "# Parameter sensitivity\n",
    "\n",
    "Next we investigate the sensitivity of the free convection results to\n",
    "time step size, grid resolution, and the values of various parameters.\n",
    "\n",
    "For this purpose we define a function, `mixing_layer_depth`, that returns \\$h\\$ after 10 hours in the\n",
    "Van Roekel et al. (2018) free convection example."
   ]
  },
  {
   "cell_type": "code",
   "execution_count": 4,
   "metadata": {},
   "outputs": [
    {
     "ename": "UndefVarError",
     "evalue": "UndefVarError: h_v18 not defined",
     "output_type": "error",
     "traceback": [
      "UndefVarError: h_v18 not defined",
      "",
      "Stacktrace:",
      " [1] top-level scope at In[4]:16"
     ]
    }
   ],
   "source": [
    "# Global parameters for mixing layer depth\n",
    "γ = 0.01 # degrees Celsius per meter\n",
    "buoyancy_flux = v18_buoyancy_flux # 75 W/m^2\n",
    "tf = 10*3600 # 10 hours\n",
    "L = 50 # meters\n",
    "\n",
    "function mixing_layer_depth(; dt=60, Δ=0.1, kpp_parameters=KPP.Parameters())\n",
    "    N = round(Int, L/Δ)\n",
    "    model = free_convection_model(; N=N, L=L, γ=γ, buoyancy_flux=buoyancy_flux, parameters=kpp_parameters)\n",
    "    \n",
    "    nt = ceil(Int, tf/dt)\n",
    "    iterate!(model, dt, nt)\n",
    "    \n",
    "    return model.state.h\n",
    "end\n",
    "\n",
    "h_truth = h_v18(tf)\n",
    "h0 = mixing_layer_depth() # default\n",
    "\n",
    "@show h_truth h0\n",
    "\n",
    "0;"
   ]
  },
  {
   "cell_type": "markdown",
   "metadata": {},
   "source": [
    "## Sensitivity to numerical parameters\n",
    "\n",
    "First, we test the sensitivity of KPP to variations in \n",
    "\n",
    "* time-step, from 60 seconds to 1 hour\n",
    "* grid resolution, from 0.1 meters to 10 meters."
   ]
  },
  {
   "cell_type": "code",
   "execution_count": 5,
   "metadata": {},
   "outputs": [],
   "source": [
    "# Range of time-steps and grid resolutions\n",
    "dts = 60 .* [0.5, 1, 2, 3, 4, 5, 6, 7, 8, 9, 10, 20, 30, 40, 50, 60]\n",
    "Δs = [0.1, 0.2, 0.5, 1, 2, 3, 4, 5, 6, 7, 8, 9, 10]\n",
    "ndt = length(dts)\n",
    "nΔ = length(Δs)\n",
    "\n",
    "# Generate data\n",
    "h_numerical = zeros(ndt, nΔ)\n",
    "for (i, dt) in enumerate(dts), (j, Δ) in enumerate(Δs)\n",
    "    h_numerical[i, j] = mixing_layer_depth(dt=dt, Δ=Δ)\n",
    "end"
   ]
  },
  {
   "cell_type": "code",
   "execution_count": 6,
   "metadata": {},
   "outputs": [
    {
     "ename": "UndefVarError",
     "evalue": "UndefVarError: h_v18 not defined",
     "output_type": "error",
     "traceback": [
      "UndefVarError: h_v18 not defined",
      "",
      "Stacktrace:",
      " [1] top-level scope at In[6]:1"
     ]
    }
   ],
   "source": [
    "# Plot results\n",
    "h_truth = h_v18(tf)\n",
    "err(h) = (h - h_truth) / h_truth\n",
    "\n",
    "fig, axs = subplots(ncols=2, figsize=(12, 4))\n",
    "\n",
    "fig.suptitle(\"Relative error in boundary layer depth at \\$t=10\\$ hours\")\n",
    "\n",
    "sca(axs[1])\n",
    "cornerspines()\n",
    "xscale(\"log\")\n",
    "xlabel(L\"\\Delta t\")\n",
    "ylabel(\"Error with \\$ \\\\Delta = $(Δs[1]) \\$ meters\")\n",
    "\n",
    "plot(dts / 3600, err.(h_numerical[:, 1]), \"o\")\n",
    "axs[1].axhline(y=0, color=\"k\", linewidth=1, alpha=0.4)\n",
    "\n",
    "\n",
    "sca(axs[2])\n",
    "removespines(\"top\", \"left\")\n",
    "axs[2].tick_params(left=false, labelleft=false, right=true, labelright=true)\n",
    "axs[2].yaxis.set_label_position(\"right\")\n",
    "xscale(\"log\")\n",
    "xlabel(\"Grid resolution \\$ \\\\Delta \\$ (m)\")\n",
    "ylabel(\"Error with \\$ \\\\Delta t = $(dts[1]) \\$ s\")\n",
    "\n",
    "plot(Δs, err.(h_numerical[1, :]), \"o\")\n",
    "axs[2].axhline(y=0, color=\"k\", linewidth=1, alpha=0.4)\n",
    "\n",
    "# Plot a bunch of results together\n",
    "fig2, axs2 = subplots(figsize=(12, 4))\n",
    "\n",
    "title(\"Relative error in boundary layer depth at \\$t=10\\$ hours\")\n",
    "\n",
    "cornerspines()\n",
    "xscale(\"log\")\n",
    "xlabel(\"\\$ \\\\Delta t \\$ (minutes)\")\n",
    "ylabel(\"Relative error\")\n",
    "\n",
    "  jΔ = [ 1,   3,   4,   5,   6,   8,  nΔ ]\n",
    "syms = [\"o\", \"s\", \"*\", \"d\", \"^\", \".\", \"p\"]\n",
    "\n",
    "for (ij, j) in enumerate(jΔ)\n",
    "    lbl = \"\\$ \\\\Delta = $(Δs[j]) \\$ meters\"    \n",
    "    plot(dts / 60, err.(h_numerical[:, j]), syms[ij], label=lbl)\n",
    "end\n",
    "\n",
    "axs2.axhline(y=0, color=\"k\", linewidth=1, alpha=0.4)\n",
    "\n",
    "legend(fontsize=\"medium\", markerscale=1, loc=\"best\", bbox_to_anchor=(1, 0.5));"
   ]
  },
  {
   "cell_type": "markdown",
   "metadata": {},
   "source": [
    "# Parameter sensitivity\n",
    "\n",
    "We now test the sensitivity of KPP's modeling of free convection to a few key parameters:\n",
    "\n",
    "* \\$ C^{\\mathrm{SL}} \\$, the surface layer fraction;\n",
    "* \\$ C^{NL} \\$, the non-local flux proportionality constant;\n",
    "* \\$ C^{Ri} \\$, the critical bulk Richardson number;\n",
    "* \\$ C^{b}_T \\$, the diffusivity proportionality constant for tracers;\n",
    "\n",
    "Note that \\$C^{Ri}\\$ and $C^{\\mathrm{KE}}\\$ are not independent in free convection. \n",
    "We choose \\$ \\Delta t = 10 \\$ minutes and \\$ \\Delta = 1 \\$ meters for the comparison."
   ]
  },
  {
   "cell_type": "code",
   "execution_count": 7,
   "metadata": {},
   "outputs": [
    {
     "data": {
      "image/png": "[encoded data removed]",
      "text/plain": [
       "Figure(PyObject <Figure size 640x480 with 1 Axes>)"
      ]
     },
     "metadata": {},
     "output_type": "display_data"
    }
   ],
   "source": [
    "mixing_layer_depth_psens(parameters) = mixing_layer_depth(; dt=10*60, Δ=1, kpp_parameters=parameters)\n",
    "\n",
    "function parameter_sensitivity(param_name, Δparam)\n",
    "    \n",
    "    defaults = KPP.Parameters()\n",
    "    param₀ = getproperty(defaults, param_name)\n",
    "    \n",
    "    param₋ = param₀ - Δparam/2\n",
    "    param₊ = param₀ + Δparam/2\n",
    "    \n",
    "    kw₋ = Dict(param_name=>param₋)\n",
    "    kw₊ = Dict(param_name=>param₊)\n",
    "    \n",
    "    kpp_params₋ = KPP.Parameters(; kw₋...)\n",
    "    kpp_params₊ = KPP.Parameters(; kw₊...)\n",
    "    \n",
    "    h₋ = mixing_layer_depth_psens(kpp_params₋)\n",
    "    h₊ = mixing_layer_depth_psens(kpp_params₊)\n",
    "    \n",
    "    @show param_name param₋ param₊\n",
    "    @show h₋ h₊\n",
    "    \n",
    "    return (h₊ - h₋) / Δparam\n",
    "end\n",
    "\n",
    "function sweep_parameter(paramname, paramvalues...)\n",
    "    hs = []\n",
    "    for val in paramvalues\n",
    "        kw = Dict(paramname=>val)\n",
    "        kpp_params = KPP.Parameters(; kw...)   \n",
    "        push!(hs, mixing_layer_depth_psens(kpp_params))\n",
    "    end\n",
    "    \n",
    "    return (h for h in hs)\n",
    "end\n",
    "\n",
    "study_params = [:CSL, :CNL, :CRi, :Cb_T, :Cmb_T]\n",
    "param_labels = [L\"C^{\\mathrm{SL}}\", L\"C^{NL}\", L\"C^{\\mathrm{Ri}}\", L\"C^b_T\", L\"C^{mb}_T\"]\n",
    "sensitivities = []\n",
    "paramvalues = []\n",
    "h₀ = mixing_layer_depth_psens(KPP.Parameters())\n",
    "Δp = 0.1\n",
    "\n",
    "defaults = KPP.Parameters()\n",
    "for param in study_params\n",
    "    param0 = getproperty(defaults, param)\n",
    "    param₋ = (1-Δp)*param0\n",
    "    param₊ = (1+Δp)*param0\n",
    "    h₋, h₊ = sweep_parameter(param, param₋, param₊)\n",
    "    \n",
    "    push!(sensitivities, [h₋, h₀, h₊])\n",
    "    push!(paramvalues, [param₋, param0, param₊])\n",
    "end\n",
    "\n",
    "fig, axs = subplots()\n",
    "cornerspines()\n",
    "defaultcolors = plt.rcParams[\"axes.prop_cycle\"].by_key()[\"color\"]\n",
    "ylabel(\"\\$ h \\$ (meters) at \\$t=10\\$ hours\")\n",
    "title(\"KPP parameter sensitivity in free convection\")\n",
    "\n",
    "for (i, s) in enumerate(sensitivities) \n",
    "    \n",
    "    plot(i*ones(length(s)), s, \"-s\")\n",
    "    \n",
    "    for j in 1:length(s)\n",
    "        txtstr = @sprintf(\"%.2f\", paramvalues[i][j])\n",
    "        text(i + 0.1, s[j], txtstr, verticalalignment=\"center\", color=defaultcolors[i])\n",
    "    end\n",
    "    \n",
    "end\n",
    "\n",
    "xticks([i for i=1:length(sensitivities)])\n",
    "axs.set_xticklabels(param_labels);"
   ]
  },
  {
   "cell_type": "code",
   "execution_count": null,
   "metadata": {},
   "outputs": [],
   "source": []
  }
 ],
 "metadata": {
  "kernelspec": {
   "display_name": "Julia 1.1.0",
   "language": "julia",
   "name": "julia-1.1"
  },
  "language_info": {
   "file_extension": ".jl",
   "mimetype": "application/julia",
   "name": "julia",
   "version": "1.1.0"
  }
 },
 "nbformat": 4,
 "nbformat_minor": 2
}
