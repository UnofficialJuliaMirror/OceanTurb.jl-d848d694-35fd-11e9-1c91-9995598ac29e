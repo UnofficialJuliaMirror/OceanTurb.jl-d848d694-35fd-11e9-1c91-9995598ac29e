{
 "cells": [
  {
   "cell_type": "code",
   "execution_count": 1,
   "metadata": {},
   "outputs": [
    {
     "name": "stdout",
     "output_type": "stream",
     "text": [
      "\u001b[32m\u001b[1m  Updating\u001b[22m\u001b[39m registry at `~/.julia/registries/General`\n",
      "\u001b[32m\u001b[1m  Updating\u001b[22m\u001b[39m git-repo `https://github.com/JuliaRegistries/General.git`\n",
      "\u001b[?25l\u001b[2K\u001b[?25h"
     ]
    },
    {
     "name": "stderr",
     "output_type": "stream",
     "text": [
      "┌ Info: Recompiling stale cache file /data5/glwagner/.julia/compiled/v1.1/OceanTurb/9iboO.ji for OceanTurb [d848d694-35fd-11e9-1c91-9995598ac29e]\n",
      "└ @ Base loading.jl:1184\n"
     ]
    }
   ],
   "source": [
    "using Pkg; Pkg.activate(\"..\"); Pkg.instantiate()\n",
    "\n",
    "using OceanTurb, PyPlot\n",
    "import OceanTurb: Diffusion              "
   ]
  },
  {
   "cell_type": "code",
   "execution_count": 32,
   "metadata": {},
   "outputs": [],
   "source": [
    "model = Diffusion.Model(nz=200, Lz=100.0, κ=1);"
   ]
  },
  {
   "cell_type": "code",
   "execution_count": null,
   "metadata": {},
   "outputs": [],
   "source": [
    "z0, dz = -model.grid.Lz/2, model.grid.Lz/20\n",
    "c0(z) = exp(-(z-z0)^2 / 2dz^2)\n",
    "\n",
    "model.solution.c = c0\n",
    "plot(model.solution.c.data)\n",
    "\n",
    "@show model.grid.dzc^2 / model.parameters.κ\n",
    "\n",
    "dt = 0.01\n",
    "\n",
    "for i = 1:10\n",
    "    Diffusion.step!(model, dt, 10000)\n",
    "    plot(model.solution.c.data)\n",
    "    plot(model.timestepper.rhs.c.data / maximum(abs.(model.timestepper.rhs.c.data)), \"--\")\n",
    "    pause(0.1)\n",
    "end"
   ]
  },
  {
   "cell_type": "code",
   "execution_count": null,
   "metadata": {},
   "outputs": [],
   "source": []
  },
  {
   "cell_type": "code",
   "execution_count": null,
   "metadata": {},
   "outputs": [],
   "source": []
  }
 ],
 "metadata": {
  "kernelspec": {
   "display_name": "Julia 1.0.1",
   "language": "julia",
   "name": "julia-1.0"
  },
  "language_info": {
   "file_extension": ".jl",
   "mimetype": "application/julia",
   "name": "julia",
   "version": "1.1.1"
  }
 },
 "nbformat": 4,
 "nbformat_minor": 2
}
